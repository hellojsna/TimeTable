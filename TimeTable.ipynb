{
  "cells": [
    {
      "cell_type": "markdown",
      "metadata": {
        "id": "view-in-github",
        "colab_type": "text"
      },
      "source": [
        "<a href=\"https://colab.research.google.com/github/hellojsna/TimeTable/blob/main/TimeTable.ipynb\" target=\"_parent\"><img src=\"https://colab.research.google.com/assets/colab-badge.svg\" alt=\"Open In Colab\"/></a>"
      ]
    },
    {
      "cell_type": "markdown",
      "source": [
        "# **Guide**\n",
        "\n",
        "**ALL INPUTS SHOULD BE IN KOREAN**\n",
        "\n",
        "If you don't have the korean keyboard, you can simply copy and paste the examples below.\n",
        "\n",
        "---\n",
        "```\n",
        "Example Output\n",
        "```\n",
        "This is description.\n",
        "You can copy the text inside the code block below\n",
        "\n",
        "`This is what you can copy & paste.`\n",
        "<- Paste to output shell and press Enter.\n",
        "\n",
        "---\n",
        "\n",
        "```\n",
        "파일이 존재하지 않습니다. 학교 정보를 검색합니다.\n",
        "학교 이름을 입력하세요:\n",
        "```\n",
        "This means there are no saved school so it's asking you to search for school.\n",
        "\n",
        "Search for Daejin High School\n",
        "\n",
        "`대진고등학교`\n",
        "\n",
        "---\n",
        "```\n",
        "--- '대진고등학교' 검색 결과 ---\n",
        "1. 대진고등학교 (교육청: B10, 코드: 7010146)\n",
        "   주소: 서울특별시 노원구 공릉로62가길 47 / 대진고등학교 (하계동)\n",
        "2. 대진고등학교 (교육청: D10, 코드: 7240271)\n",
        "   주소: 대구광역시 달서구 화암로73길 15 (대곡동/ 대진고등학교)\n",
        "3. 분당대진고등학교 (교육청: J10, 코드: 7530160)\n",
        "   주소: 경기도 성남시 분당구 분당로 271 (분당동/ 대진고등학교)\n",
        "4. 일산대진고등학교 (교육청: J10, 코드: 7530203)\n",
        "   주소: 경기도 고양시 일산서구 대산로 246 (대화동/ 일산대진고등학교)\n",
        "5. 대진고등학교 (교육청: K10, 코드: 7801118)\n",
        "   주소: 강원특별자치도 고성군 현내면 화진포길 476\n",
        "학교를 선택해 주세요. (1-5 번호 입력):\n",
        "```\n",
        "\n",
        "Now these are search results.\n",
        "You can choose a school by number.\n",
        "\n",
        "Let's go with 4th one(일산대진고등학교).\n",
        "\n",
        "`4`\n",
        "\n",
        "After input, it'll save the school information to csv file.\n",
        "\n",
        "---\n",
        "```\n",
        "학년을 입력해 주세요:\n",
        "```\n",
        "Select grade between 1 and 3.\n",
        "\n",
        "`3`\n",
        "\n",
        "---\n",
        "```\n",
        "반을 입력해 주세요:\n",
        "```\n",
        "This is classroom number to search timetable for.\n",
        "In this example, we will try for 11st.\n",
        "\n",
        "`11`\n",
        "\n",
        "---\n",
        "```\n",
        "3학년 11반 시간표(20250625 ~ 20250701)\n",
        "---------------------------------------------------------------------\n",
        "        월요일        | 화요일        |#수요일(오늘)  #| 목요일        | 금요일        |\n",
        "---------------------------------------------------------------------\n",
        "|1교시| 화학Ⅱ         | 윤리와사상    |#물리학Ⅱ       #|               | 사회·문화     |\n",
        "|2교시|               |               |#교육학        #|               | 물리학Ⅱ       |\n",
        "|3교시|               | 화학Ⅱ         |#음악감상과비평#| 윤리와사상    | 화학Ⅱ         |\n",
        "|4교시|               | 사회·문화     |#              #| 교육학        | 자율활동      |\n",
        "|5교시|               |               |#자율활동      #|               |               |\n",
        "|6교시| 윤리와사상    | 물리학Ⅱ       |#자율활동      #| 사회·문화     |               |\n",
        "|7교시|               |               |#              #|               |               |\n",
        "---------------------------------------------------------------------\n",
        "Enter 키를 눌러 종료합니다.\n",
        "학교를 변경하려면 1, 다시 시작하려면 2를 입력하세요.\n",
        "```\n",
        "\n",
        "Now It'll show the timetable for 3rd grade 11st class.\n",
        "(It may look weird depending on font settings.)\n",
        "\n",
        "You can now type 1 to change school or 2 to select other grade/classroom.\n",
        "\n",
        "`1` to change school.\n",
        "\n",
        "`2` to select other grade / classroom."
      ],
      "metadata": {
        "id": "ksNWm69stNNy"
      }
    },
    {
      "cell_type": "code",
      "execution_count": null,
      "metadata": {
        "id": "1Mya0KdccZyo"
      },
      "outputs": [],
      "source": [
        "# @title **1. Clone Repository (Reset)**\n",
        "\n",
        "%%shell\n",
        "GITDIR=\"TimeTable\"\n",
        "\n",
        "if [ -d \"$GITDIR\" ]; then\n",
        "  echo \"Updating existing repository in $GITDIR...\"\n",
        "  git -C \"$GITDIR\" fetch --all\n",
        "  git -C \"$GITDIR\" reset --hard origin/main\n",
        "  git -C \"$GITDIR\" clean -fdx\n",
        "else\n",
        "  echo \"Cloning repository into $GITDIR...\"\n",
        "  git clone https://github.com/hellojsna/TimeTable.git \"$GITDIR\"\n",
        "fi"
      ]
    },
    {
      "cell_type": "code",
      "source": [
        "# @title **2. Compile and Run**\n",
        "%%shell\n",
        "cd TimeTable/TimeTable/\n",
        "grep -qFx \"#define _XOPEN_SOURCE 700 // POSIX.1-2008 standard\" main.c || sed -i '1i#define _XOPEN_SOURCE 700 // POSIX.1-2008 standard' main.c\n",
        "gcc main.c parson.c -o TimeTable\n",
        "./TimeTable"
      ],
      "metadata": {
        "id": "iJA-kLEfuc3P"
      },
      "execution_count": 47,
      "outputs": []
    },
    {
      "cell_type": "markdown",
      "source": [],
      "metadata": {
        "id": "W-Masm8iucnV"
      }
    }
  ],
  "metadata": {
    "colab": {
      "provenance": [],
      "authorship_tag": "ABX9TyPZubSCkOXF19YvClwNRjEG",
      "include_colab_link": true
    },
    "kernelspec": {
      "display_name": "Python 3",
      "name": "python3"
    },
    "language_info": {
      "name": "python"
    }
  },
  "nbformat": 4,
  "nbformat_minor": 0
}